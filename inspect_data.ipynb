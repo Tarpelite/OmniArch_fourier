{
 "cells": [
  {
   "cell_type": "code",
   "execution_count": 3,
   "metadata": {},
   "outputs": [],
   "source": [
    "import h5py\n",
    "from tqdm.notebook import tqdm\n",
    "import os\n",
    "import pandas as pd\n",
    "import glob"
   ]
  },
  {
   "cell_type": "code",
   "execution_count": 6,
   "metadata": {},
   "outputs": [
    {
     "name": "stdout",
     "output_type": "stream",
     "text": [
      "['/mnt/f/data/PDEbench/1D/Advection/Train/1D_Advection_Sols_beta0.1.hdf5', '/mnt/f/data/PDEbench/1D/Advection/Train/1D_Advection_Sols_beta0.2.hdf5', '/mnt/f/data/PDEbench/1D/Advection/Train/1D_Advection_Sols_beta0.4.hdf5', '/mnt/f/data/PDEbench/1D/Advection/Train/1D_Advection_Sols_beta0.7.hdf5', '/mnt/f/data/PDEbench/1D/Advection/Train/1D_Advection_Sols_beta1.0.hdf5', '/mnt/f/data/PDEbench/1D/Advection/Train/1D_Advection_Sols_beta2.0.hdf5', '/mnt/f/data/PDEbench/1D/Advection/Train/1D_Advection_Sols_beta4.0.hdf5', '/mnt/f/data/PDEbench/1D/Advection/Train/1D_Advection_Sols_beta7.0.hdf5']\n"
     ]
    }
   ],
   "source": [
    "data_dir = \"/mnt/f/data/PDEbench/1D/Advection/Train\"\n",
    "all_data_files = glob.glob(os.path.join(data_dir, \"*\"))\n",
    "print(all_data_files)"
   ]
  },
  {
   "cell_type": "code",
   "execution_count": 9,
   "metadata": {},
   "outputs": [
    {
     "data": {
      "text/plain": [
       "<KeysViewHDF5 ['t-coordinate', 'tensor', 'x-coordinate']>"
      ]
     },
     "execution_count": 9,
     "metadata": {},
     "output_type": "execute_result"
    }
   ],
   "source": [
    "# try first data\n",
    "f = h5py.File(all_data_files[0], \"r\", swmr=True)\n",
    "f.keys()"
   ]
  },
  {
   "cell_type": "code",
   "execution_count": 12,
   "metadata": {},
   "outputs": [
    {
     "name": "stdout",
     "output_type": "stream",
     "text": [
      "(2, 5000, 201, 1024)\n",
      "(1024,)\n"
     ]
    }
   ],
   "source": [
    "print(f[\"tensor\"].shape)\n",
    "print(f[\"x-coordinate\"].shape)"
   ]
  },
  {
   "cell_type": "code",
   "execution_count": 13,
   "metadata": {},
   "outputs": [
    {
     "ename": "NotImplementedError",
     "evalue": "Support for generic buffers has not been implemented.",
     "output_type": "error",
     "traceback": [
      "\u001b[0;31m---------------------------------------------------------------------------\u001b[0m",
      "\u001b[0;31mNotImplementedError\u001b[0m                       Traceback (most recent call last)",
      "Cell \u001b[0;32mIn[13], line 1\u001b[0m\n\u001b[0;32m----> 1\u001b[0m df \u001b[38;5;241m=\u001b[39m \u001b[43mpd\u001b[49m\u001b[38;5;241;43m.\u001b[39;49m\u001b[43mread_hdf\u001b[49m\u001b[43m(\u001b[49m\u001b[43mf\u001b[49m\u001b[43m[\u001b[49m\u001b[38;5;124;43m\"\u001b[39;49m\u001b[38;5;124;43mtensor\u001b[39;49m\u001b[38;5;124;43m\"\u001b[39;49m\u001b[43m]\u001b[49m\u001b[43m)\u001b[49m\n",
      "File \u001b[0;32m~/miniconda3/envs/omniarch_fourier/lib/python3.11/site-packages/pandas/io/pytables.py:413\u001b[0m, in \u001b[0;36mread_hdf\u001b[0;34m(path_or_buf, key, mode, errors, where, start, stop, columns, iterator, chunksize, **kwargs)\u001b[0m\n\u001b[1;32m    411\u001b[0m path_or_buf \u001b[38;5;241m=\u001b[39m stringify_path(path_or_buf)\n\u001b[1;32m    412\u001b[0m \u001b[38;5;28;01mif\u001b[39;00m \u001b[38;5;129;01mnot\u001b[39;00m \u001b[38;5;28misinstance\u001b[39m(path_or_buf, \u001b[38;5;28mstr\u001b[39m):\n\u001b[0;32m--> 413\u001b[0m     \u001b[38;5;28;01mraise\u001b[39;00m \u001b[38;5;167;01mNotImplementedError\u001b[39;00m(\n\u001b[1;32m    414\u001b[0m         \u001b[38;5;124m\"\u001b[39m\u001b[38;5;124mSupport for generic buffers has not been implemented.\u001b[39m\u001b[38;5;124m\"\u001b[39m\n\u001b[1;32m    415\u001b[0m     )\n\u001b[1;32m    416\u001b[0m \u001b[38;5;28;01mtry\u001b[39;00m:\n\u001b[1;32m    417\u001b[0m     exists \u001b[38;5;241m=\u001b[39m os\u001b[38;5;241m.\u001b[39mpath\u001b[38;5;241m.\u001b[39mexists(path_or_buf)\n",
      "\u001b[0;31mNotImplementedError\u001b[0m: Support for generic buffers has not been implemented."
     ]
    }
   ],
   "source": []
  }
 ],
 "metadata": {
  "kernelspec": {
   "display_name": "omniarch_fourier",
   "language": "python",
   "name": "python3"
  },
  "language_info": {
   "codemirror_mode": {
    "name": "ipython",
    "version": 3
   },
   "file_extension": ".py",
   "mimetype": "text/x-python",
   "name": "python",
   "nbconvert_exporter": "python",
   "pygments_lexer": "ipython3",
   "version": "3.11.9"
  }
 },
 "nbformat": 4,
 "nbformat_minor": 2
}
